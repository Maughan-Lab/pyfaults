{
 "cells": [
  {
   "cell_type": "code",
   "execution_count": 1,
   "id": "8786ebbd",
   "metadata": {},
   "outputs": [],
   "source": [
    "# import modules\n",
    "import sys\n",
    "sys.path.append(\"C:/Users/sincl/packages/pyfaults/pyfaults/\")\n",
    "import XRDsim as xs"
   ]
  },
  {
   "cell_type": "markdown",
   "id": "9b39ab80",
   "metadata": {},
   "source": [
    "See pyfaults/examples/cif/ for cifs used in simulations"
   ]
  },
  {
   "cell_type": "code",
   "execution_count": 3,
   "id": "9d79ce73",
   "metadata": {},
   "outputs": [],
   "source": [
    "# set file directories\n",
    "cif_dir = \"C:/Users/sincl/packages/pyfaults/pyfaults/examples/cif/\"\n",
    "save_dir = \"C:/Users/sincl/packages/pyfaults/pyfaults/examples/sims/\""
   ]
  },
  {
   "cell_type": "code",
   "execution_count": 12,
   "id": "7aa2ebcd",
   "metadata": {},
   "outputs": [],
   "source": [
    "# set simulation parameters\n",
    "\n",
    "# instrument wavelength\n",
    "wl = 0.459744\n",
    "\n",
    "# maximum 2theta\n",
    "tt_max = 26\n",
    "\n",
    "# peak width, in A^-1\n",
    "pw = 0.0\n",
    "\n",
    "# average of normal background\n",
    "bg = 0\n",
    "\n",
    "# cif file name\n",
    "\n",
    "#fn = \"unitcell_100\"\n",
    "fn = \"UF_100\"\n",
    "#fn = \"FLT_100\""
   ]
  },
  {
   "cell_type": "code",
   "execution_count": 13,
   "id": "6da38ff1",
   "metadata": {},
   "outputs": [
    {
     "name": "stdout",
     "output_type": "stream",
     "text": [
      "Scatter(UF_100 with 2400 atomic positions, 1 symmetries)\n",
      "       Type: xray\n",
      "     Energy: 8.048 keV\n",
      " Wavelength: 1.5405619896714298 A\n",
      " ---Settings---\n",
      "      Powder units: tth\n",
      "    Isotropic ADPs: True\n",
      "  Specular Direction (reflection): ( 0, 0, 1)\n",
      "Parallel Direction (transmission): ( 0, 0, 1)\n",
      "      theta offset: 0.0\n",
      "         min theta: -180.0\n",
      "         max theta: 180.0\n",
      "      min twotheta: -180.0\n",
      "      max twotheta: 180.0\n",
      " ---X-Ray Settings---\n",
      " Waasmaier scattering factor: False\n",
      " ---Magnetic Settings---\n",
      "   Mag. scattering: True\n",
      "  Mag. form factor: True\n",
      "         Polarised: False\n",
      "      Polarisation: sp\n",
      "       Pol. vector: (0,1,0)\n",
      " ---Resonant Settings---\n",
      "   Azimuthal angle: 0\n",
      "    Azimuthal ref.: (1,0,0)\n",
      "               flm: (0,1,0)\n",
      "  use e1e1 approx.: True\n",
      "\n",
      "Splitting 167247 reflections (2400 atoms) into 41 parts\n",
      " Starting  1/41: 0:4080\n",
      " Starting  2/41: 4080:8160\n",
      " Starting  3/41: 8160:12240\n",
      " Starting  4/41: 12240:16320\n",
      " Starting  5/41: 16320:20400\n",
      " Starting  6/41: 20400:24480\n",
      " Starting  7/41: 24480:28560\n",
      " Starting  8/41: 28560:32640\n",
      " Starting  9/41: 32640:36719\n",
      " Starting 10/41: 36719:40798\n",
      " Starting 11/41: 40798:44877\n",
      " Starting 12/41: 44877:48956\n",
      " Starting 13/41: 48956:53035\n",
      " Starting 14/41: 53035:57114\n",
      " Starting 15/41: 57114:61193\n",
      " Starting 16/41: 61193:65272\n",
      " Starting 17/41: 65272:69351\n",
      " Starting 18/41: 69351:73430\n",
      " Starting 19/41: 73430:77509\n",
      " Starting 20/41: 77509:81588\n",
      " Starting 21/41: 81588:85667\n",
      " Starting 22/41: 85667:89746\n",
      " Starting 23/41: 89746:93825\n",
      " Starting 24/41: 93825:97904\n",
      " Starting 25/41: 97904:101983\n",
      " Starting 26/41: 101983:106062\n",
      " Starting 27/41: 106062:110141\n",
      " Starting 28/41: 110141:114220\n",
      " Starting 29/41: 114220:118299\n",
      " Starting 30/41: 118299:122378\n",
      " Starting 31/41: 122378:126457\n",
      " Starting 32/41: 126457:130536\n",
      " Starting 33/41: 130536:134615\n",
      " Starting 34/41: 134615:138694\n",
      " Starting 35/41: 138694:142773\n",
      " Starting 36/41: 142773:146852\n",
      " Starting 37/41: 146852:150931\n",
      " Starting 38/41: 150931:155010\n",
      " Starting 39/41: 155010:159089\n",
      " Starting 40/41: 159089:163168\n",
      " Starting 41/41: 163168:167247\n",
      "Calculated 167247 structure factors in 0:00:58.016978\n"
     ]
    }
   ],
   "source": [
    "# simulate XRD\n",
    "q, ints = xs.fullSim(cif_dir, fn, wl, tt_max, pw, bg)"
   ]
  },
  {
   "cell_type": "code",
   "execution_count": 14,
   "id": "2315fecc",
   "metadata": {},
   "outputs": [],
   "source": [
    "# save simulation data\n",
    "xs.saveSim(save_dir, fn, q, ints)"
   ]
  },
  {
   "cell_type": "markdown",
   "id": "76e91a9c",
   "metadata": {},
   "source": [
    "See pyfaults/examples/sims/ for output files"
   ]
  },
  {
   "cell_type": "code",
   "execution_count": null,
   "id": "0182779b",
   "metadata": {},
   "outputs": [],
   "source": []
  }
 ],
 "metadata": {
  "kernelspec": {
   "display_name": "Python 3 (ipykernel)",
   "language": "python",
   "name": "python3"
  },
  "language_info": {
   "codemirror_mode": {
    "name": "ipython",
    "version": 3
   },
   "file_extension": ".py",
   "mimetype": "text/x-python",
   "name": "python",
   "nbconvert_exporter": "python",
   "pygments_lexer": "ipython3",
   "version": "3.10.9"
  }
 },
 "nbformat": 4,
 "nbformat_minor": 5
}
