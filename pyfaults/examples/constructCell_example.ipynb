{
 "cells": [
  {
   "cell_type": "code",
   "execution_count": 1,
   "id": "dcf2eacd",
   "metadata": {},
   "outputs": [],
   "source": [
    "# import modules\n",
    "import sys\n",
    "sys.path.append(\"C:/Users/sincl/packages/pyfaults/pyfaults/\")\n",
    "import constructCell as cc"
   ]
  },
  {
   "cell_type": "markdown",
   "id": "f8f9b610",
   "metadata": {},
   "source": [
    "See pyfaults/examples/csv/ for file used here"
   ]
  },
  {
   "cell_type": "code",
   "execution_count": 2,
   "id": "b7a34ea5",
   "metadata": {},
   "outputs": [],
   "source": [
    "# import CSV files with atomic information\n",
    "csv_path = \"C:/Users/sincl/packages/pyfaults/pyfaults/examples/csv/\"\n",
    "csv_100 = cc.import_csv(csv_path, \"(100)_layers\")\n",
    "\n",
    "# set lattice parameters\n",
    "latt = cc.Lattice(a=6.391, b=11.04, c=6.398, alpha=90, beta=109.89, gamma=90)\n",
    "\n",
    "# get layers from csv import\n",
    "layers = cc.get_csv_layers(csv_100, latt, [\"A\", \"B\"])"
   ]
  },
  {
   "cell_type": "code",
   "execution_count": 3,
   "id": "c88685da",
   "metadata": {
    "scrolled": true
   },
   "outputs": [],
   "source": [
    "# generate unit cell\n",
    "unitcell_100 = cc.Unitcell(\"(100) Unitcell\", layers, latt)"
   ]
  },
  {
   "cell_type": "code",
   "execution_count": 4,
   "id": "c11a55c4",
   "metadata": {},
   "outputs": [],
   "source": [
    "# generate unfaulted supercell\n",
    "UF_100 = cc.Supercell(unitcell_100, 100)"
   ]
  },
  {
   "cell_type": "code",
   "execution_count": 5,
   "id": "500c668f",
   "metadata": {},
   "outputs": [
    {
     "name": "stdout",
     "output_type": "stream",
     "text": [
      "A_n1_fault\n",
      "A_n9_fault\n",
      "A_n21_fault\n",
      "A_n35_fault\n",
      "A_n37_fault\n",
      "A_n38_fault\n",
      "A_n40_fault\n",
      "A_n46_fault\n",
      "A_n47_fault\n",
      "A_n51_fault\n",
      "A_n54_fault\n",
      "A_n56_fault\n",
      "A_n65_fault\n",
      "A_n66_fault\n",
      "A_n70_fault\n",
      "A_n85_fault\n",
      "A_n89_fault\n",
      "A_n90_fault\n",
      "A_n92_fault\n",
      "A_n99_fault\n",
      "A_n100_fault\n"
     ]
    }
   ],
   "source": [
    "# generate faulted supercell\n",
    "FLT_100 = cc.Supercell(unitcell_100, 100, fltLayer=\"A\", stackVec=[0.25, 0.25, 0], stackProb=0.20)\n",
    "\n",
    "# print faulted layers\n",
    "FLT_100.show_faults()"
   ]
  },
  {
   "cell_type": "code",
   "execution_count": 6,
   "id": "2d70d404",
   "metadata": {},
   "outputs": [],
   "source": [
    "# create cif files\n",
    "save_path = \"C:/Users/sincl/packages/pyfaults/pyfaults/examples/cif/\"\n",
    "\n",
    "cc.to_cif(unitcell_100, save_path, \"unitcell_100\", inclPkl=True)\n",
    "cc.to_cif(UF_100, save_path, \"UF_100\", inclPkl=True)\n",
    "cc.to_cif(FLT_100, save_path, \"FLT_100\", inclPkl=True)"
   ]
  },
  {
   "cell_type": "markdown",
   "id": "32c4faeb",
   "metadata": {},
   "source": [
    "See pyfaults/examples/cif/ for output files"
   ]
  },
  {
   "cell_type": "code",
   "execution_count": null,
   "id": "e0e17071",
   "metadata": {},
   "outputs": [],
   "source": []
  }
 ],
 "metadata": {
  "kernelspec": {
   "display_name": "Python 3 (ipykernel)",
   "language": "python",
   "name": "python3"
  },
  "language_info": {
   "codemirror_mode": {
    "name": "ipython",
    "version": 3
   },
   "file_extension": ".py",
   "mimetype": "text/x-python",
   "name": "python",
   "nbconvert_exporter": "python",
   "pygments_lexer": "ipython3",
   "version": "3.10.9"
  }
 },
 "nbformat": 4,
 "nbformat_minor": 5
}
