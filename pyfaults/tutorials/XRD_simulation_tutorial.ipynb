{
 "cells": [
  {
   "cell_type": "markdown",
   "id": "57309900",
   "metadata": {},
   "source": [
    "# XRD Simulation Tutorial\n",
    "\n",
    "This tutorial will demonstrate how to simulate diffraction patterns from generated unit cells and supercells. Simulations are done using the Python library ```Dans_Diffraction```\n",
    "\n",
    "**Files needed:** ```(100)_stack_unitcell.cif```, ```(100)_stack_UFsupercell.cif```, and ```(100)_stack_FLTsupercell.cif```"
   ]
  },
  {
   "cell_type": "code",
   "execution_count": 1,
   "id": "9bcc56cc",
   "metadata": {},
   "outputs": [],
   "source": [
    "# import PyFaults package\n",
    "import pyfaults as pf"
   ]
  },
  {
   "cell_type": "code",
   "execution_count": 2,
   "id": "ca06d952",
   "metadata": {},
   "outputs": [],
   "source": [
    "# set file directories\n",
    "cifPath = \"C:/Users/sincl/packages/pyfaults/pyfaults/tutorials/files/\"\n",
    "savePath = \"C:/Users/sincl/packages/pyfaults/pyfaults/tutorials/outputs/\""
   ]
  },
  {
   "cell_type": "markdown",
   "id": "795bd827",
   "metadata": {},
   "source": [
    "The ```fullSim``` method is set to output x values in units of Q (A^-1), rather than 2theta (deg), so the maximum 2theta value needs to be converted appropriately."
   ]
  },
  {
   "cell_type": "code",
   "execution_count": 3,
   "id": "2735c14f",
   "metadata": {},
   "outputs": [],
   "source": [
    "# set simulation parameters\n",
    "\n",
    "# instrument wavelength\n",
    "wl = 0.459744\n",
    "\n",
    "# maximum 2theta\n",
    "tt_max = 15\n",
    "\n",
    "# peak width, in A^-1\n",
    "pw = 0.0\n",
    "\n",
    "# average of normal background\n",
    "bg = 0"
   ]
  },
  {
   "cell_type": "code",
   "execution_count": 7,
   "id": "5cff04b7",
   "metadata": {},
   "outputs": [
    {
     "name": "stdout",
     "output_type": "stream",
     "text": [
      "Scatter((100)_stack_unitcell with 24 atomic positions, 1 symmetries)\n",
      "       Type: xray\n",
      "     Energy: 8.048 keV\n",
      " Wavelength: 1.5405619896714298 A\n",
      " ---Settings---\n",
      "      Powder units: tth\n",
      "    Isotropic ADPs: True\n",
      "  Specular Direction (reflection): ( 0, 0, 1)\n",
      "Parallel Direction (transmission): ( 0, 0, 1)\n",
      "      theta offset: 0.0\n",
      "         min theta: -180.0\n",
      "         max theta: 180.0\n",
      "      min twotheta: -180.0\n",
      "      max twotheta: 180.0\n",
      " ---X-Ray Settings---\n",
      " Waasmaier scattering factor: False\n",
      " ---Magnetic Settings---\n",
      "   Mag. scattering: True\n",
      "  Mag. form factor: True\n",
      "         Polarised: False\n",
      "      Polarisation: sp\n",
      "       Pol. vector: (0,1,0)\n",
      " ---Resonant Settings---\n",
      "   Azimuthal angle: 0\n",
      "    Azimuthal ref.: (1,0,0)\n",
      "               flm: (0,1,0)\n",
      "  use e1e1 approx.: True\n",
      "\n"
     ]
    }
   ],
   "source": [
    "# simulate XRD for (100)_stack_unitcell\n",
    "unitcell_q, unitcell_ints = pf.simXRD.fullSim(cifPath, \"(100)_stack_unitcell\", wl, tt_max, pw, bg)"
   ]
  },
  {
   "cell_type": "code",
   "execution_count": 8,
   "id": "03bfce69",
   "metadata": {},
   "outputs": [
    {
     "name": "stdout",
     "output_type": "stream",
     "text": [
      "Scatter((100)_stack_UFsupercell with 2400 atomic positions, 1 symmetries)\n",
      "       Type: xray\n",
      "     Energy: 8.048 keV\n",
      " Wavelength: 1.5405619896714298 A\n",
      " ---Settings---\n",
      "      Powder units: tth\n",
      "    Isotropic ADPs: True\n",
      "  Specular Direction (reflection): ( 0, 0, 1)\n",
      "Parallel Direction (transmission): ( 0, 0, 1)\n",
      "      theta offset: 0.0\n",
      "         min theta: -180.0\n",
      "         max theta: 180.0\n",
      "      min twotheta: -180.0\n",
      "      max twotheta: 180.0\n",
      " ---X-Ray Settings---\n",
      " Waasmaier scattering factor: False\n",
      " ---Magnetic Settings---\n",
      "   Mag. scattering: True\n",
      "  Mag. form factor: True\n",
      "         Polarised: False\n",
      "      Polarisation: sp\n",
      "       Pol. vector: (0,1,0)\n",
      " ---Resonant Settings---\n",
      "   Azimuthal angle: 0\n",
      "    Azimuthal ref.: (1,0,0)\n",
      "               flm: (0,1,0)\n",
      "  use e1e1 approx.: True\n",
      "\n",
      "Splitting 32939 reflections (2400 atoms) into 8 parts\n",
      " Starting  1/ 8: 0:4118\n",
      " Starting  2/ 8: 4118:8236\n",
      " Starting  3/ 8: 8236:12354\n",
      " Starting  4/ 8: 12354:16471\n",
      " Starting  5/ 8: 16471:20588\n",
      " Starting  6/ 8: 20588:24705\n",
      " Starting  7/ 8: 24705:28822\n",
      " Starting  8/ 8: 28822:32939\n",
      "Calculated 32939 structure factors in 0:00:16.337980\n"
     ]
    }
   ],
   "source": [
    "# simulate XRD for (100)_stack_UFsupercell\n",
    "UF_q, UF_ints = pf.simXRD.fullSim(cifPath, \"(100)_stack_UFsupercell\", wl, tt_max, pw, bg)"
   ]
  },
  {
   "cell_type": "code",
   "execution_count": 9,
   "id": "3ab25868",
   "metadata": {},
   "outputs": [
    {
     "name": "stdout",
     "output_type": "stream",
     "text": [
      "Scatter((100)_stack_FLTsupercell with 2400 atomic positions, 1 symmetries)\n",
      "       Type: xray\n",
      "     Energy: 8.048 keV\n",
      " Wavelength: 1.5405619896714298 A\n",
      " ---Settings---\n",
      "      Powder units: tth\n",
      "    Isotropic ADPs: True\n",
      "  Specular Direction (reflection): ( 0, 0, 1)\n",
      "Parallel Direction (transmission): ( 0, 0, 1)\n",
      "      theta offset: 0.0\n",
      "         min theta: -180.0\n",
      "         max theta: 180.0\n",
      "      min twotheta: -180.0\n",
      "      max twotheta: 180.0\n",
      " ---X-Ray Settings---\n",
      " Waasmaier scattering factor: False\n",
      " ---Magnetic Settings---\n",
      "   Mag. scattering: True\n",
      "  Mag. form factor: True\n",
      "         Polarised: False\n",
      "      Polarisation: sp\n",
      "       Pol. vector: (0,1,0)\n",
      " ---Resonant Settings---\n",
      "   Azimuthal angle: 0\n",
      "    Azimuthal ref.: (1,0,0)\n",
      "               flm: (0,1,0)\n",
      "  use e1e1 approx.: True\n",
      "\n",
      "Splitting 32939 reflections (2400 atoms) into 8 parts\n",
      " Starting  1/ 8: 0:4118\n",
      " Starting  2/ 8: 4118:8236\n",
      " Starting  3/ 8: 8236:12354\n",
      " Starting  4/ 8: 12354:16471\n",
      " Starting  5/ 8: 16471:20588\n",
      " Starting  6/ 8: 20588:24705\n",
      " Starting  7/ 8: 24705:28822\n",
      " Starting  8/ 8: 28822:32939\n",
      "Calculated 32939 structure factors in 0:00:16.412121\n"
     ]
    }
   ],
   "source": [
    "# simulate XRD for (100)_stack_FLTsupercell\n",
    "FLT_q, FLT_ints = pf.simXRD.fullSim(cifPath, \"(100)_stack_FLTsupercell\", wl, tt_max, pw, bg)"
   ]
  },
  {
   "cell_type": "code",
   "execution_count": 10,
   "id": "49d4c8fa",
   "metadata": {},
   "outputs": [],
   "source": [
    "# save simulated diffraction patterns\n",
    "\n",
    "pf.simXRD.saveSim(savePath, \"(001)_unitcell_sim\", unitcell_q, unitcell_ints)\n",
    "\n",
    "pf.simXRD.saveSim(savePath, \"(001)_UF_sim\", UF_q, UF_ints)\n",
    "\n",
    "pf.simXRD.saveSim(savePath, \"(001)_FLT_sim\", FLT_q, FLT_ints)"
   ]
  },
  {
   "cell_type": "markdown",
   "id": "59a121fe",
   "metadata": {},
   "source": [
    "Example output files can be found in the ```pyfaults/tutorials/outputs/``` folder"
   ]
  },
  {
   "cell_type": "code",
   "execution_count": null,
   "id": "0acadd93",
   "metadata": {},
   "outputs": [],
   "source": []
  }
 ],
 "metadata": {
  "kernelspec": {
   "display_name": "Python 3 (ipykernel)",
   "language": "python",
   "name": "python3"
  },
  "language_info": {
   "codemirror_mode": {
    "name": "ipython",
    "version": 3
   },
   "file_extension": ".py",
   "mimetype": "text/x-python",
   "name": "python",
   "nbconvert_exporter": "python",
   "pygments_lexer": "ipython3",
   "version": "3.10.9"
  }
 },
 "nbformat": 4,
 "nbformat_minor": 5
}
