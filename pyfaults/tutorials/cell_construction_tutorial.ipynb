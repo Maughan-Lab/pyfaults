{
 "cells": [
  {
   "cell_type": "markdown",
   "id": "6a221909",
   "metadata": {},
   "source": [
    "# Cell Construction Tutorial\n",
    "\n",
    "This tutorial will demonstrate how to construct a layered unit cell, ideal supercell, and faulted supercell.\n",
    "\n",
    "**Files needed:** ```020_layers.csv```"
   ]
  },
  {
   "cell_type": "code",
   "execution_count": 1,
   "id": "d42d35f5",
   "metadata": {},
   "outputs": [],
   "source": [
    "# import PyFaults package\n",
    "import pyfaults as pf"
   ]
  },
  {
   "cell_type": "markdown",
   "id": "c374a700",
   "metadata": {},
   "source": [
    "When importing atomic information from a CSV, it must include the layer name, atom label, element, atomic position in fractional coordinates (x, y, and z being entered as separate columns), and site occupancy. See API or example csv file for details."
   ]
  },
  {
   "cell_type": "code",
   "execution_count": 2,
   "id": "a2659c3b",
   "metadata": {},
   "outputs": [],
   "source": [
    "# import CSV file\n",
    "csv_path = \"C:/Users/sincl/packages/pyfaults/pyfaults/tutorials/files/\"\n",
    "csv_020_stack = pf.importCSV(csv_path, \"020_layers\")"
   ]
  },
  {
   "cell_type": "markdown",
   "id": "a07ab92e",
   "metadata": {},
   "source": [
    "Lattice parameters are for the **entire** unit cell, not just a single layer."
   ]
  },
  {
   "cell_type": "code",
   "execution_count": 3,
   "id": "3421b51f",
   "metadata": {},
   "outputs": [],
   "source": [
    "# set lattice parameters\n",
    "latt = pf.Lattice(a=6.398, b=6.391, c=11.04, alpha=90, beta=90, gamma=109.89)"
   ]
  },
  {
   "cell_type": "markdown",
   "id": "b4bbdeff",
   "metadata": {},
   "source": [
    "To extract layers, you will need to provide a list of the same layer names used in the CSV file. Additionally, providing the stacking direction allows the program to swap the lattice parameters appropriately so that stacking is along the c-direction. "
   ]
  },
  {
   "cell_type": "code",
   "execution_count": 4,
   "id": "6fc15ab1",
   "metadata": {},
   "outputs": [],
   "source": [
    "# get layers from imported csv file\n",
    "layers = pf.layer.getLayers(csv_020_stack, latt, [\"A1\", \"B1\"], \"c\")"
   ]
  },
  {
   "cell_type": "code",
   "execution_count": 5,
   "id": "c9d48770",
   "metadata": {},
   "outputs": [],
   "source": [
    "# generate child layers\n",
    "\n",
    "B2_shift = [0.5, 0, 0.162]\n",
    "A2_shift = [0.5, 0, 0.5]\n",
    "B3_shift = A2_shift\n",
    "B4_shift = [0, 0, 0.662]\n",
    "\n",
    "B2 = layers[1].genChildLayer(\"B2\", B2_shift)\n",
    "A2 = layers[0].genChildLayer(\"A2\", A2_shift)\n",
    "B3 = layers[1].genChildLayer(\"B3\", B3_shift)\n",
    "B4 = layers[1].genChildLayer(\"B4\", B4_shift)\n",
    "\n",
    "layers.extend([B2, A2, B3, B4])"
   ]
  },
  {
   "cell_type": "code",
   "execution_count": 7,
   "id": "92f9953a",
   "metadata": {},
   "outputs": [],
   "source": [
    "# generate unit cell\n",
    "unitcell = pf.Unitcell(\"(020) Stack Unitcell\", layers, latt)"
   ]
  },
  {
   "cell_type": "markdown",
   "id": "a0fa8ea7",
   "metadata": {},
   "source": [
    "To generate an unfaulted supercell, only specify the number of stacks (N) and leave the faulting parameters as None."
   ]
  },
  {
   "cell_type": "code",
   "execution_count": 8,
   "id": "f8d7d9f7",
   "metadata": {},
   "outputs": [],
   "source": [
    "# generate unfaulted supercell with N=500\n",
    "UF_supercell = pf.Supercell(unitcell, 500)"
   ]
  },
  {
   "cell_type": "markdown",
   "id": "72bf9faf",
   "metadata": {},
   "source": [
    "To generate a faulted supercell, specify the name of the faulted layer, the stacking vector (S; in decimal format), and the stacking probability (0 <= P <= 100). For modeling in-plane faulting, the z-component of S should be set to 0. \n",
    "\n",
    "The layers that are faulted are randomized based on the probability, calling the show_faults() method will print a list of faulted layers."
   ]
  },
  {
   "cell_type": "code",
   "execution_count": 13,
   "id": "0cd29d24",
   "metadata": {},
   "outputs": [
    {
     "name": "stdout",
     "output_type": "stream",
     "text": [
      "A2_n29_fault\n",
      "A2_n45_fault\n",
      "A2_n51_fault\n",
      "A2_n53_fault\n",
      "A2_n59_fault\n",
      "A2_n75_fault\n",
      "A2_n81_fault\n",
      "A2_n86_fault\n",
      "A2_n88_fault\n",
      "A2_n100_fault\n",
      "A2_n107_fault\n",
      "A2_n108_fault\n",
      "A2_n110_fault\n",
      "A2_n111_fault\n",
      "A2_n112_fault\n",
      "A2_n122_fault\n",
      "A2_n124_fault\n",
      "A2_n128_fault\n",
      "A2_n131_fault\n",
      "A2_n133_fault\n",
      "A2_n136_fault\n",
      "A2_n140_fault\n",
      "A2_n148_fault\n",
      "A2_n161_fault\n",
      "A2_n163_fault\n",
      "A2_n186_fault\n",
      "A2_n190_fault\n",
      "A2_n193_fault\n",
      "A2_n198_fault\n",
      "A2_n199_fault\n",
      "A2_n205_fault\n",
      "A2_n210_fault\n",
      "A2_n211_fault\n",
      "A2_n213_fault\n",
      "A2_n214_fault\n",
      "A2_n220_fault\n",
      "A2_n221_fault\n",
      "A2_n224_fault\n",
      "A2_n231_fault\n",
      "A2_n233_fault\n",
      "A2_n234_fault\n",
      "A2_n236_fault\n",
      "A2_n241_fault\n",
      "A2_n255_fault\n",
      "A2_n263_fault\n",
      "A2_n265_fault\n",
      "A2_n267_fault\n",
      "A2_n275_fault\n",
      "A2_n276_fault\n",
      "A2_n284_fault\n",
      "A2_n286_fault\n",
      "A2_n287_fault\n",
      "A2_n288_fault\n",
      "A2_n290_fault\n",
      "A2_n295_fault\n",
      "A2_n299_fault\n",
      "A2_n303_fault\n",
      "A2_n304_fault\n",
      "A2_n306_fault\n",
      "A2_n309_fault\n",
      "A2_n316_fault\n",
      "A2_n318_fault\n",
      "A2_n322_fault\n",
      "A2_n336_fault\n",
      "A2_n342_fault\n",
      "A2_n359_fault\n",
      "A2_n367_fault\n",
      "A2_n372_fault\n",
      "A2_n379_fault\n",
      "A2_n387_fault\n",
      "A2_n398_fault\n",
      "A2_n402_fault\n",
      "A2_n404_fault\n",
      "A2_n407_fault\n",
      "A2_n413_fault\n",
      "A2_n414_fault\n",
      "A2_n418_fault\n",
      "A2_n419_fault\n",
      "A2_n424_fault\n",
      "A2_n426_fault\n",
      "A2_n427_fault\n",
      "A2_n435_fault\n",
      "A2_n440_fault\n",
      "A2_n455_fault\n",
      "A2_n458_fault\n",
      "A2_n474_fault\n",
      "A2_n481_fault\n",
      "A2_n482_fault\n",
      "A2_n487_fault\n"
     ]
    }
   ],
   "source": [
    "# generate faulted supercell with N=500, S=[0, 1/3, 0], and P=20%\n",
    "FLT_supercell = pf.Supercell(unitcell, 500, fltLayer=\"A2\", stackVec=[0, 0.33333, 0], stackProb=0.20)\n",
    "\n",
    "# print faulted layers\n",
    "FLT_supercell.show_faults()"
   ]
  },
  {
   "cell_type": "code",
   "execution_count": 15,
   "id": "b1ef1f0b",
   "metadata": {},
   "outputs": [],
   "source": [
    "# export generated cells as CIF files\n",
    "\n",
    "savePath = \"C:/Users/sincl/packages/pyfaults/pyfaults/tutorials/outputs/\"\n",
    "\n",
    "# unit cell\n",
    "pf.toCif(unitcell, savePath, \"(020)_unitcell\")\n",
    "\n",
    "# unfaulted supercell\n",
    "pf.toCif(UF_supercell, savePath, \"(020)_UF_supercell\")\n",
    "\n",
    "# faulted supercell\n",
    "pf.toCif(FLT_supercell, savePath, \"(020)_FLT_supercell\")"
   ]
  },
  {
   "cell_type": "markdown",
   "id": "676f1870",
   "metadata": {},
   "source": [
    "Example output files can be found in the ```pyfaults/tutorials/outputs/``` folder"
   ]
  },
  {
   "cell_type": "code",
   "execution_count": null,
   "id": "0f6cda39",
   "metadata": {},
   "outputs": [],
   "source": []
  }
 ],
 "metadata": {
  "kernelspec": {
   "display_name": "Python 3 (ipykernel)",
   "language": "python",
   "name": "python3"
  },
  "language_info": {
   "codemirror_mode": {
    "name": "ipython",
    "version": 3
   },
   "file_extension": ".py",
   "mimetype": "text/x-python",
   "name": "python",
   "nbconvert_exporter": "python",
   "pygments_lexer": "ipython3",
   "version": "3.10.9"
  }
 },
 "nbformat": 4,
 "nbformat_minor": 5
}
