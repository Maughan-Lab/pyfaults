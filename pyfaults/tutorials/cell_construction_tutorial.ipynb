{
 "cells": [
  {
   "cell_type": "markdown",
   "id": "6a221909",
   "metadata": {},
   "source": [
    "# Cell Construction Tutorial\n",
    "\n",
    "This tutorial will demonstrate how to construct a layered unit cell, ideal supercell, and faulted supercell.\n",
    "\n",
    "**Files needed:** ```(100)_stack_layers.csv```"
   ]
  },
  {
   "cell_type": "code",
   "execution_count": 1,
   "id": "d42d35f5",
   "metadata": {},
   "outputs": [],
   "source": [
    "# import PyFaults package\n",
    "import pyfaults as pf"
   ]
  },
  {
   "cell_type": "markdown",
   "id": "c374a700",
   "metadata": {},
   "source": [
    "When importing atomic information from a CSV, it must include the layer name, atom label, element, atomic position in fractional coordinates (x, y, and z being entered as separate columns), and site occupancy. See API or example csv file for details."
   ]
  },
  {
   "cell_type": "code",
   "execution_count": 8,
   "id": "a2659c3b",
   "metadata": {},
   "outputs": [],
   "source": [
    "# import CSV file\n",
    "csv_path = \"C:/Users/sincl/packages/pyfaults/pyfaults/tutorials/files/\"\n",
    "csv_100_stack = pf.importCSV(csv_path, \"(100)_stack_layers\")"
   ]
  },
  {
   "cell_type": "markdown",
   "id": "a07ab92e",
   "metadata": {},
   "source": [
    "Lattice parameters are for the **entire** unit cell, not just a single layer."
   ]
  },
  {
   "cell_type": "code",
   "execution_count": 9,
   "id": "3421b51f",
   "metadata": {},
   "outputs": [],
   "source": [
    "# set lattice parameters\n",
    "latt = pf.Lattice(a=6.391, b=11.04, c=6.398, alpha=90, beta=109.89, gamma=90)"
   ]
  },
  {
   "cell_type": "markdown",
   "id": "b4bbdeff",
   "metadata": {},
   "source": [
    "To extract layers, you will need to provide a list of the same layer names used in the CSV file. Additionally, providing the stacking direction allows the program to swap the lattice parameters appropriately so that stacking is along the c-direction. "
   ]
  },
  {
   "cell_type": "code",
   "execution_count": 10,
   "id": "6fc15ab1",
   "metadata": {},
   "outputs": [],
   "source": [
    "# get layers from imported csv file\n",
    "layers = pf.layer.getLayers(csv_100_stack, latt, [\"A\", \"B\"], \"c\")"
   ]
  },
  {
   "cell_type": "code",
   "execution_count": 11,
   "id": "92f9953a",
   "metadata": {},
   "outputs": [],
   "source": [
    "# generate unit cell\n",
    "unitcell_100_stack = pf.Unitcell(\"(100) Stack Unitcell\", layers, latt)"
   ]
  },
  {
   "cell_type": "markdown",
   "id": "a0fa8ea7",
   "metadata": {},
   "source": [
    "To generate an unfaulted supercell, only specify the number of stacks (N) and leave the faulting parameters as None."
   ]
  },
  {
   "cell_type": "code",
   "execution_count": 12,
   "id": "f8d7d9f7",
   "metadata": {},
   "outputs": [],
   "source": [
    "# generate unfaulted supercell with N=100\n",
    "UF_100_stack = pf.Supercell(unitcell_100_stack, 100)"
   ]
  },
  {
   "cell_type": "markdown",
   "id": "72bf9faf",
   "metadata": {},
   "source": [
    "To generate a faulted supercell, specify the name of the faulted layer, the stacking vector (S; in decimal format), and the stacking probability (0 <= P <= 100). For modeling in-plane faulting, the z-component of S should be set to 0. \n",
    "\n",
    "The layers that are faulted are randomized based on the probability, calling the show_faults() method will print a list of faulted layers."
   ]
  },
  {
   "cell_type": "code",
   "execution_count": 15,
   "id": "0cd29d24",
   "metadata": {},
   "outputs": [
    {
     "name": "stdout",
     "output_type": "stream",
     "text": [
      "A_n1_fault\n",
      "A_n4_fault\n",
      "A_n5_fault\n",
      "A_n13_fault\n",
      "A_n15_fault\n",
      "A_n16_fault\n",
      "A_n30_fault\n",
      "A_n38_fault\n",
      "A_n41_fault\n",
      "A_n43_fault\n",
      "A_n44_fault\n",
      "A_n50_fault\n",
      "A_n51_fault\n",
      "A_n52_fault\n",
      "A_n53_fault\n",
      "A_n54_fault\n",
      "A_n55_fault\n",
      "A_n66_fault\n",
      "A_n67_fault\n",
      "A_n68_fault\n",
      "A_n70_fault\n",
      "A_n75_fault\n",
      "A_n79_fault\n",
      "A_n82_fault\n",
      "A_n85_fault\n",
      "A_n93_fault\n",
      "A_n96_fault\n"
     ]
    }
   ],
   "source": [
    "# generate faulted supercell with N=100, S=[1/4, 1/4, 0], and P=20%\n",
    "FLT_100_stack = pf.Supercell(unitcell_100_stack, 100, fltLayer=\"A\", stackVec=[0.25, 0.25, 0], stackProb=0.20)\n",
    "\n",
    "# print faulted layers\n",
    "FLT_100_stack.show_faults()"
   ]
  },
  {
   "cell_type": "code",
   "execution_count": 16,
   "id": "b1ef1f0b",
   "metadata": {},
   "outputs": [],
   "source": [
    "# export generated cells as CIF and pickle files (pickle files are a bit easier to use between Jupyter notebooks)\n",
    "\n",
    "savePath = \"C:/Users/sincl/packages/pyfaults/pyfaults/tutorials/outputs/\"\n",
    "\n",
    "# unit cell\n",
    "pf.toCif(unitcell_100_stack, savePath, \"(100)_stack_unitcell\", inclPkl=True)\n",
    "\n",
    "# unfaulted supercell\n",
    "pf.toCif(UF_100_stack, savePath, \"(100)_stack_UFsupercell\", inclPkl=True)\n",
    "\n",
    "# faulted supercell\n",
    "pf.toCif(FLT_100_stack, savePath, \"(100)_stack_FLTsupercell\", inclPkl=True)"
   ]
  },
  {
   "cell_type": "markdown",
   "id": "676f1870",
   "metadata": {},
   "source": [
    "Example output files can be found in the ```pyfaults/tutorials/outputs/``` folder"
   ]
  },
  {
   "cell_type": "code",
   "execution_count": null,
   "id": "0f6cda39",
   "metadata": {},
   "outputs": [],
   "source": []
  }
 ],
 "metadata": {
  "kernelspec": {
   "display_name": "Python 3 (ipykernel)",
   "language": "python",
   "name": "python3"
  },
  "language_info": {
   "codemirror_mode": {
    "name": "ipython",
    "version": 3
   },
   "file_extension": ".py",
   "mimetype": "text/x-python",
   "name": "python",
   "nbconvert_exporter": "python",
   "pygments_lexer": "ipython3",
   "version": "3.10.9"
  }
 },
 "nbformat": 4,
 "nbformat_minor": 5
}
