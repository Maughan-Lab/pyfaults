{
 "cells": [
  {
   "cell_type": "code",
   "execution_count": 13,
   "id": "c586b7e6",
   "metadata": {},
   "outputs": [],
   "source": [
    "import pyfaults as pf\n",
    "import numpy as np"
   ]
  },
  {
   "cell_type": "code",
   "execution_count": 14,
   "id": "ee1b2a4d",
   "metadata": {},
   "outputs": [],
   "source": [
    "filePath = \"C:/Users/sincl/packages/pyfaults/pyfaults/tutorials/files/\"\n",
    "savePath = \"C:/Users/sincl/packages/pyfaults/pyfaults/tutorials/files/diffCurves/\""
   ]
  },
  {
   "cell_type": "code",
   "execution_count": 37,
   "id": "c3c2499f",
   "metadata": {},
   "outputs": [],
   "source": [
    "# instrument wavelength\n",
    "wl = 0.459744\n",
    "\n",
    "# experimental\n",
    "expt_tt, expt_ints = pf.importSim(filePath, \"expt_XRD\")\n",
    "expt_Q = pf.tt_to_q(expt_tt, wl)\n",
    "\n",
    "# unfaulted supercell\n",
    "UF_Q, UF_ints = pf.importSim(filePath, \"(001)_n1000_UF\")\n",
    "\n",
    "# faulted by S1 = (0, 1/4, 0)\n",
    "s1_p10_Q, s1_p10_ints = pf.importSim(filePath, \"(001)_n1000_p10_s1_4\")\n",
    "s1_p20_Q, s1_p20_ints = pf.importSim(filePath, \"(001)_n1000_p20_s1_4\")\n",
    "s1_p30_Q, s1_p30_ints = pf.importSim(filePath, \"(001)_n1000_p30_s1_4\")\n",
    "s1_p40_Q, s1_p40_ints = pf.importSim(filePath, \"(001)_n1000_p40_s1_4\")\n",
    "\n",
    "# faulted by S2 = (0, 1/3, 0)\n",
    "s2_p10_Q, s2_p10_ints = pf.importSim(filePath, \"(001)_n1000_p10_s1_3\")\n",
    "s2_p20_Q, s2_p20_ints = pf.importSim(filePath, \"(001)_n1000_p20_s1_3\")\n",
    "s2_p30_Q, s2_p30_ints = pf.importSim(filePath, \"(001)_n1000_p30_s1_3\")\n",
    "s2_p40_Q, s2_p40_ints = pf.importSim(filePath, \"(001)_n1000_p40_s1_3\")\n",
    "\n",
    "# faulted by S3 = (0, 2/5, 0)\n",
    "s3_p10_Q, s3_p10_ints = pf.importSim(filePath, \"(001)_n1000_p10_s2_5\")\n",
    "s3_p20_Q, s3_p20_ints = pf.importSim(filePath, \"(001)_n1000_p20_s2_5\")\n",
    "s3_p30_Q, s3_p30_ints = pf.importSim(filePath, \"(001)_n1000_p30_s2_5\")\n",
    "s3_p40_Q, s3_p40_ints = pf.importSim(filePath, \"(001)_n1000_p40_s2_5\")"
   ]
  },
  {
   "cell_type": "code",
   "execution_count": 38,
   "id": "11da53da",
   "metadata": {},
   "outputs": [],
   "source": [
    "# experimental\n",
    "expt_norm = pf.plotXRD.norm(expt_ints)\n",
    "expt_min = np.min(expt_norm)\n",
    "\n",
    "# unfaulted supercell\n",
    "UF_norm = pf.plotXRD.norm(UF_ints)\n",
    "\n",
    "# faulted by S1 = (0, 1/4, 0)\n",
    "s1_p10_norm = pf.plotXRD.norm(s1_p10_ints)\n",
    "s1_p20_norm = pf.plotXRD.norm(s1_p20_ints)\n",
    "s1_p30_norm = pf.plotXRD.norm(s1_p30_ints)\n",
    "s1_p40_norm = pf.plotXRD.norm(s1_p40_ints)\n",
    "\n",
    "# faulted by S2 = (0, 1/3, 0)\n",
    "s2_p10_norm = pf.plotXRD.norm(s2_p10_ints)\n",
    "s2_p20_norm = pf.plotXRD.norm(s2_p20_ints)\n",
    "s2_p30_norm = pf.plotXRD.norm(s2_p30_ints)\n",
    "s2_p40_norm = pf.plotXRD.norm(s2_p40_ints)\n",
    "\n",
    "# faulted by S3 = (0, 2/5, 0)\n",
    "s3_p10_norm = pf.plotXRD.norm(s3_p10_ints)\n",
    "s3_p20_norm = pf.plotXRD.norm(s3_p20_ints)\n",
    "s3_p30_norm = pf.plotXRD.norm(s3_p30_ints)\n",
    "s3_p40_norm = pf.plotXRD.norm(s3_p40_ints)"
   ]
  },
  {
   "cell_type": "code",
   "execution_count": 11,
   "id": "8759d5c0",
   "metadata": {},
   "outputs": [],
   "source": [
    "# expt vs unfaulted\n",
    "UF_diffQ, UF_diffInts = pf.simXRD.diffCurve(expt_Q, UF_Q, expt_norm, UF_norm)\n",
    "\n",
    "pf.simXRD.saveDiffCurve(UF_diffQ, UF_diffInts, savePath, \"UF_diff\")"
   ]
  },
  {
   "cell_type": "code",
   "execution_count": 39,
   "id": "f6bc7086",
   "metadata": {},
   "outputs": [],
   "source": [
    "# expt vs S1, p10\n",
    "S1_p10_diffQ, S1_p10_diffInts = pf.simXRD.diffCurve(expt_Q, s1_p10_Q, expt_norm, s1_p10_norm)\n",
    "\n",
    "pf.simXRD.saveDiffCurve(S1_p10_diffQ, S1_p10_diffInts, savePath, \"S1_p10_diff\")"
   ]
  },
  {
   "cell_type": "code",
   "execution_count": 40,
   "id": "7d3789ea",
   "metadata": {},
   "outputs": [],
   "source": [
    "# expt vs S1, p20\n",
    "S1_p20_diffQ, S1_p20_diffInts = pf.simXRD.diffCurve(expt_Q, s1_p20_Q, expt_norm, s1_p20_norm)\n",
    "\n",
    "pf.simXRD.saveDiffCurve(S1_p20_diffQ, S1_p20_diffInts, savePath, \"S1_p20_diff\")"
   ]
  },
  {
   "cell_type": "code",
   "execution_count": 41,
   "id": "ef1fab35",
   "metadata": {},
   "outputs": [],
   "source": [
    "# expt vs S1, p30\n",
    "S1_p30_diffQ, S1_p30_diffInts = pf.simXRD.diffCurve(expt_Q, s1_p30_Q, expt_norm, s1_p30_norm)\n",
    "\n",
    "pf.simXRD.saveDiffCurve(S1_p30_diffQ, S1_p30_diffInts, savePath, \"S1_p30_diff\")"
   ]
  },
  {
   "cell_type": "code",
   "execution_count": 42,
   "id": "9938e514",
   "metadata": {},
   "outputs": [],
   "source": [
    "# expt vs S1, p40\n",
    "S1_p40_diffQ, S1_p40_diffInts = pf.simXRD.diffCurve(expt_Q, s1_p40_Q, expt_norm, s1_p40_norm)\n",
    "\n",
    "pf.simXRD.saveDiffCurve(S1_p40_diffQ, S1_p40_diffInts, savePath, \"S1_p40_diff\")"
   ]
  },
  {
   "cell_type": "code",
   "execution_count": 12,
   "id": "16f90162",
   "metadata": {},
   "outputs": [],
   "source": [
    "# expt vs S2, p10\n",
    "S2_p10_diffQ, S2_p10_diffInts = pf.simXRD.diffCurve(expt_Q, s2_p10_Q, expt_norm, s2_p10_norm)\n",
    "\n",
    "pf.simXRD.saveDiffCurve(S2_p10_diffQ, S2_p10_diffInts, savePath, \"S2_p10_diff\")"
   ]
  },
  {
   "cell_type": "code",
   "execution_count": 17,
   "id": "e99cb43d",
   "metadata": {},
   "outputs": [],
   "source": [
    "# expt vs S2, p20\n",
    "S2_p20_diffQ, S2_p20_diffInts = pf.simXRD.diffCurve(expt_Q, s2_p20_Q, expt_norm, s2_p20_norm)\n",
    "\n",
    "pf.simXRD.saveDiffCurve(S2_p20_diffQ, S2_p20_diffInts, savePath, \"S2_p20_diff\")"
   ]
  },
  {
   "cell_type": "code",
   "execution_count": 18,
   "id": "10b2224e",
   "metadata": {},
   "outputs": [],
   "source": [
    "# expt vs S2, p30\n",
    "S2_p30_diffQ, S2_p30_diffInts = pf.simXRD.diffCurve(expt_Q, s2_p30_Q, expt_norm, s2_p30_norm)\n",
    "\n",
    "pf.simXRD.saveDiffCurve(S2_p30_diffQ, S2_p30_diffInts, savePath, \"S2_p30_diff\")"
   ]
  },
  {
   "cell_type": "code",
   "execution_count": 19,
   "id": "ba07bf11",
   "metadata": {},
   "outputs": [],
   "source": [
    "# expt vs S2, p40\n",
    "S2_p40_diffQ, S2_p40_diffInts = pf.simXRD.diffCurve(expt_Q, s2_p40_Q, expt_norm, s2_p40_norm)\n",
    "\n",
    "pf.simXRD.saveDiffCurve(S2_p40_diffQ, S2_p40_diffInts, savePath, \"S2_p40_diff\")"
   ]
  },
  {
   "cell_type": "code",
   "execution_count": 23,
   "id": "278c84e9",
   "metadata": {},
   "outputs": [],
   "source": [
    "# expt vs S3, p10\n",
    "S3_p10_diffQ, S3_p10_diffInts = pf.simXRD.diffCurve(expt_Q, s3_p10_Q, expt_norm, s3_p10_norm)\n",
    "\n",
    "pf.simXRD.saveDiffCurve(S3_p10_diffQ, S3_p10_diffInts, savePath, \"S3_p10_diff\")"
   ]
  },
  {
   "cell_type": "code",
   "execution_count": 24,
   "id": "7d054c4b",
   "metadata": {},
   "outputs": [],
   "source": [
    "# expt vs S3, p20\n",
    "S3_p20_diffQ, S3_p20_diffInts = pf.simXRD.diffCurve(expt_Q, s3_p20_Q, expt_norm, s3_p20_norm)\n",
    "\n",
    "pf.simXRD.saveDiffCurve(S3_p20_diffQ, S3_p20_diffInts, savePath, \"S3_p20_diff\")"
   ]
  },
  {
   "cell_type": "code",
   "execution_count": 29,
   "id": "034494be",
   "metadata": {},
   "outputs": [],
   "source": [
    "# expt vs S3, p30\n",
    "S3_p30_diffQ, S3_p30_diffInts = pf.simXRD.diffCurve(expt_Q, s3_p30_Q, expt_norm, s3_p30_norm)\n",
    "\n",
    "pf.simXRD.saveDiffCurve(S3_p30_diffQ, S3_p30_diffInts, savePath, \"S3_p30_diff\")"
   ]
  },
  {
   "cell_type": "code",
   "execution_count": 30,
   "id": "2b633f77",
   "metadata": {},
   "outputs": [],
   "source": [
    "# expt vs S3, p40\n",
    "S3_p40_diffQ, S3_p40_diffInts = pf.simXRD.diffCurve(expt_Q, s3_p40_Q, expt_norm, s3_p40_norm)\n",
    "\n",
    "pf.simXRD.saveDiffCurve(S3_p40_diffQ, S3_p40_diffInts, savePath, \"S3_p40_diff\")"
   ]
  },
  {
   "cell_type": "code",
   "execution_count": null,
   "id": "3bb84748",
   "metadata": {},
   "outputs": [],
   "source": []
  }
 ],
 "metadata": {
  "kernelspec": {
   "display_name": "Python 3 (ipykernel)",
   "language": "python",
   "name": "python3"
  },
  "language_info": {
   "codemirror_mode": {
    "name": "ipython",
    "version": 3
   },
   "file_extension": ".py",
   "mimetype": "text/x-python",
   "name": "python",
   "nbconvert_exporter": "python",
   "pygments_lexer": "ipython3",
   "version": "3.10.9"
  }
 },
 "nbformat": 4,
 "nbformat_minor": 5
}
