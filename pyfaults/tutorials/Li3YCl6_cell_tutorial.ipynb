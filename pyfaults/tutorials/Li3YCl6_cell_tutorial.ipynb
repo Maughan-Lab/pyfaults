{
 "cells": [
  {
   "cell_type": "code",
   "execution_count": 10,
   "id": "a741e29c",
   "metadata": {},
   "outputs": [],
   "source": [
    "# import PyFaults\n",
    "import pyfaults as pf\n",
    "\n",
    "# set working directory\n",
    "path = './pyfaults/pyfaults/tutorials/'"
   ]
  },
  {
   "cell_type": "markdown",
   "id": "2503cb03",
   "metadata": {},
   "source": [
    "# Unit cell construction"
   ]
  },
  {
   "cell_type": "markdown",
   "id": "ee9ea9ad",
   "metadata": {},
   "source": [
    "Constructing a unit cell from scratch within PyFaults framework"
   ]
  },
  {
   "cell_type": "code",
   "execution_count": 3,
   "id": "d9f4e295",
   "metadata": {},
   "outputs": [],
   "source": [
    "# Li3YCl6 lattice\n",
    "LYC_latt = pf.lattice.Lattice(a=11.209, b=11.209, c=6.047, alpha=90, beta=90, gamma=120)\n",
    "\n",
    "# Layer A atoms\n",
    "Y1_A = pf.layerAtom.LayerAtom('A', 'Y1', 'Y3+', [0, 0, 0], 1.0, 0.993, LYC_latt)\n",
    "Li1_A = pf.layerAtom.LayerAtom('A', 'Li1', 'Li1+', [1/3, 0, 0], 1.0, 0.993, LYC_latt)\n",
    "Li2_A = pf.layerAtom.LayerAtom('A', 'Li2', 'Li1+', [2/3, 0, 0], 1.0, 0.993, LYC_latt)\n",
    "Li3_A = pf.layerAtom.LayerAtom('A', 'Li3', 'Li1+', [0, 1/3, 0], 1.0, 0.993, LYC_latt)\n",
    "Li4_A = pf.layerAtom.LayerAtom('A', 'Li4', 'Li1+', [0, 2/3, 0], 1.0, 0.993, LYC_latt)\n",
    "Li5_A = pf.layerAtom.LayerAtom('A', 'Li5', 'Li1+', [1/3, 1/3, 0], 1.0, 0.993, LYC_latt)\n",
    "Li6_A = pf.layerAtom.LayerAtom('A', 'Li6', 'Li1+', [2/3, 2/3, 0], 1.0, 0.993, LYC_latt)\n",
    "\n",
    "# Layer B1 atoms\n",
    "Cl1_B1 = pf.layerAtom.LayerAtom('B1', 'Cl1', 'Cl1-', [0.22, 0.11, 0.25], 1.0, 1.4, LYC_latt)\n",
    "Cl2_B1 = pf.layerAtom.LayerAtom('B1', 'Cl2', 'Cl1-', [0.56, 0.11, 0.25], 1.0, 1.4, LYC_latt)\n",
    "Cl3_B1 = pf.layerAtom.LayerAtom('B1', 'Cl3', 'Cl1-', [0.89, 0.11, 0.25], 1.0, 1.4, LYC_latt)\n",
    "Cl4_B1 = pf.layerAtom.LayerAtom('B1', 'Cl4', 'Cl1-', [0.22, 0.45, 0.25], 1.0, 1.4, LYC_latt)\n",
    "Cl5_B1 = pf.layerAtom.LayerAtom('B1', 'Cl5', 'Cl1-', [0.56, 0.45, 0.25], 1.0, 1.4, LYC_latt)\n",
    "Cl6_B1 = pf.layerAtom.LayerAtom('B1', 'Cl6', 'Cl1-', [0.89, 0.45, 0.25], 1.0, 1.4, LYC_latt)\n",
    "Cl7_B1 = pf.layerAtom.LayerAtom('B1', 'Cl7', 'Cl1-', [0.22, 0.78, 0.25], 1.0, 1.4, LYC_latt)\n",
    "Cl8_B1 = pf.layerAtom.LayerAtom('B1', 'Cl8', 'Cl1-', [0.56, 0.78, 0.25], 1.0, 1.4, LYC_latt)\n",
    "Cl9_B1 = pf.layerAtom.LayerAtom('B1', 'Cl9', 'Cl1-', [0.89, 0.78, 0.25], 1.0, 1.4, LYC_latt)\n",
    "\n",
    "# Layer C atoms\n",
    "Y1_C = pf.layerAtom.LayerAtom('C', 'Y1', 'Y3+', [2/3, 1/3, 1/2], 1.0, 0.993, LYC_latt)\n",
    "Y2_C = pf.layerAtom.LayerAtom('C', 'Y2', 'Y3+', [1/3, 2/3, 1/2], 1.0, 0.993, LYC_latt)\n",
    "Li1_C = pf.layerAtom.LayerAtom('C', 'Li1', 'Li3+', [1/3, 0, 1/2], 0.5, 0.993, LYC_latt)\n",
    "Li2_C = pf.layerAtom.LayerAtom('C', 'Li2', 'Li3+', [2/3, 0, 1/2], 0.5, 0.993, LYC_latt)\n",
    "Li3_C = pf.layerAtom.LayerAtom('C', 'Li3', 'Li3+', [0, 1/3, 1/2], 0.5, 0.993, LYC_latt)\n",
    "Li4_C = pf.layerAtom.LayerAtom('C', 'Li4', 'Li3+', [0, 2/3, 1/2], 0.5, 0.993, LYC_latt)\n",
    "Li5_C = pf.layerAtom.LayerAtom('C', 'Li5', 'Li3+', [1/3, 1/3, 1/2], 0.5, 0.993, LYC_latt)\n",
    "Li6_C = pf.layerAtom.LayerAtom('C', 'Li6', 'Li3+', [2/3, 2/3, 1/2], 0.5, 0.993, LYC_latt)"
   ]
  },
  {
   "cell_type": "code",
   "execution_count": 4,
   "id": "fcae6943",
   "metadata": {},
   "outputs": [],
   "source": [
    "# Layer A\n",
    "lyr_A = pf.layer.Layer([Y1_A, Li1_A, Li2_A, Li3_A, Li4_A, Li5_A, Li6_A], LYC_latt, 'A')\n",
    "\n",
    "# Layer B1\n",
    "lyr_B1 = pf.layer.Layer([Cl1_B1, Cl2_B1, Cl3_B1, Cl4_B1, Cl5_B1, Cl6_B1, Cl7_B1, Cl8_B1, Cl9_B1], LYC_latt, 'B1')\n",
    "\n",
    "# Layer C\n",
    "lyr_C = pf.layer.Layer([Y1_C, Y2_C, Li1_C, Li2_C, Li3_C, Li4_C, Li5_C, Li6_C], LYC_latt, 'C')\n",
    "\n",
    "# child layer B2\n",
    "vec_B2 = [-0.11, 0.11, 0.5]\n",
    "lyr_B2 = lyr_B1.genChildLayer('B2', vec_B2)"
   ]
  },
  {
   "cell_type": "code",
   "execution_count": 6,
   "id": "eebf6a1c",
   "metadata": {},
   "outputs": [],
   "source": [
    "# unit cell\n",
    "LYC_unitcell_v1 = pf.unitcell.Unitcell('Li3YCl6', [lyr_A, lyr_B1, lyr_C, lyr_B2], LYC_latt)"
   ]
  },
  {
   "cell_type": "markdown",
   "id": "f5005884",
   "metadata": {},
   "source": [
    "Constructing a unit cell from a CSV file (see pyfaults/tutorials/LYC_layers.csv)"
   ]
  },
  {
   "cell_type": "code",
   "execution_count": 12,
   "id": "54fb7cdf",
   "metadata": {},
   "outputs": [],
   "source": [
    "LYC_unitcell_v2 = pf.genUnitCell.genUnitCell(path, 'LYC_layers', [11.209, 11.209, 6.047, 90, 90, 120], ['A', 'B1', 'C'],\n",
    "                  [['B2', 'B1', [-0.11, 0.11, 0.5]]])"
   ]
  },
  {
   "cell_type": "markdown",
   "id": "92a67e9d",
   "metadata": {},
   "source": [
    "# Supercell construction"
   ]
  },
  {
   "cell_type": "markdown",
   "id": "1316ebbb",
   "metadata": {},
   "source": [
    "Constructing a single supercell from a Unitcell object"
   ]
  },
  {
   "cell_type": "code",
   "execution_count": 13,
   "id": "fd909557",
   "metadata": {},
   "outputs": [],
   "source": [
    "# unfaulted supercell with 100 stacks\n",
    "LYC_unfaulted_n100 = pf.supercell.Supercell(LYC_unitcell_v2, 100)\n",
    "\n",
    "# faulted supercell with 100 stacks, stacking vector [1/3, 2/3, 0] with fault probability 15%\n",
    "LYC_faulted_n100_p15 = pf.supercell.Supercell(LYC_unitcell_v2, 100, fltLayer='A', stackVec=[1/3, 2/3, 0], stackProb=0.15)"
   ]
  },
  {
   "cell_type": "markdown",
   "id": "24583cf4",
   "metadata": {},
   "source": [
    "Constructing a library of supercells according to a set of stacking vectors and fault probabilities"
   ]
  },
  {
   "cell_type": "code",
   "execution_count": 14,
   "id": "806085ee",
   "metadata": {},
   "outputs": [],
   "source": [
    "# stacking vectors\n",
    "s = ([1/3, 2/3, 0], [2/3, 1/3, 0])\n",
    "\n",
    "# fault probabilities\n",
    "p = [0.15, 0.25, 0.35]\n",
    "\n",
    "LYC_n100 = pf.genSupercells.genSupercells(LYC_unitcell_v2, 100, 'A', p, s, path)"
   ]
  }
 ],
 "metadata": {
  "kernelspec": {
   "display_name": "Python 3 (ipykernel)",
   "language": "python",
   "name": "python3"
  },
  "language_info": {
   "codemirror_mode": {
    "name": "ipython",
    "version": 3
   },
   "file_extension": ".py",
   "mimetype": "text/x-python",
   "name": "python",
   "nbconvert_exporter": "python",
   "pygments_lexer": "ipython3",
   "version": "3.10.9"
  }
 },
 "nbformat": 4,
 "nbformat_minor": 5
}
